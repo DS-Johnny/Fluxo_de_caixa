{
 "cells": [
  {
   "cell_type": "code",
   "execution_count": 1,
   "metadata": {},
   "outputs": [],
   "source": [
    "import db_manager as dbm\n",
    "import pandas as pd"
   ]
  },
  {
   "cell_type": "code",
   "execution_count": 2,
   "metadata": {},
   "outputs": [],
   "source": [
    "\n",
    "dados = dbm.consultar_contas() # Query com a tabela de contas e saldo\n",
    "df_conta = pd.DataFrame(dados) # Cria Dataframe\n",
    "\n",
    "\n",
    "dados = dbm.consultar_contas() # Query com a tabela de contas e saldo\n",
    "df_conta = pd.DataFrame(dados) # Cria Dataframe\n",
    "\n"
   ]
  },
  {
   "cell_type": "code",
   "execution_count": 3,
   "metadata": {},
   "outputs": [
    {
     "data": {
      "text/html": [
       "<div>\n",
       "<style scoped>\n",
       "    .dataframe tbody tr th:only-of-type {\n",
       "        vertical-align: middle;\n",
       "    }\n",
       "\n",
       "    .dataframe tbody tr th {\n",
       "        vertical-align: top;\n",
       "    }\n",
       "\n",
       "    .dataframe thead th {\n",
       "        text-align: right;\n",
       "    }\n",
       "</style>\n",
       "<table border=\"1\" class=\"dataframe\">\n",
       "  <thead>\n",
       "    <tr style=\"text-align: right;\">\n",
       "      <th></th>\n",
       "      <th>id_conta</th>\n",
       "      <th>conta</th>\n",
       "      <th>saldo</th>\n",
       "    </tr>\n",
       "  </thead>\n",
       "  <tbody>\n",
       "    <tr>\n",
       "      <th>0</th>\n",
       "      <td>1</td>\n",
       "      <td>Banco do Brasil</td>\n",
       "      <td>2000.0</td>\n",
       "    </tr>\n",
       "    <tr>\n",
       "      <th>1</th>\n",
       "      <td>2</td>\n",
       "      <td>CAIXA</td>\n",
       "      <td>540.0</td>\n",
       "    </tr>\n",
       "  </tbody>\n",
       "</table>\n",
       "</div>"
      ],
      "text/plain": [
       "   id_conta            conta   saldo\n",
       "0         1  Banco do Brasil  2000.0\n",
       "1         2            CAIXA   540.0"
      ]
     },
     "execution_count": 3,
     "metadata": {},
     "output_type": "execute_result"
    }
   ],
   "source": [
    "df_conta"
   ]
  },
  {
   "cell_type": "code",
   "execution_count": 27,
   "metadata": {},
   "outputs": [
    {
     "data": {
      "text/plain": [
       "'De saldo_conta_deb = 2000.0 para saldo_conta_cred = 540.0'"
      ]
     },
     "execution_count": 27,
     "metadata": {},
     "output_type": "execute_result"
    }
   ],
   "source": [
    "saldo_conta_deb = df_conta[df_conta['conta'] == 'Banco do Brasil']['saldo'].iloc[0]\n",
    "saldo_conta_cred = df_conta[df_conta['conta'] == 'CAIXA']['saldo'].iloc[0]\n",
    "f'De {saldo_conta_deb = } para {saldo_conta_cred = }'"
   ]
  },
  {
   "cell_type": "code",
   "execution_count": 28,
   "metadata": {},
   "outputs": [
    {
     "data": {
      "text/plain": [
       "numpy.float64"
      ]
     },
     "execution_count": 28,
     "metadata": {},
     "output_type": "execute_result"
    }
   ],
   "source": [
    "type(saldo_conta_deb)"
   ]
  },
  {
   "cell_type": "code",
   "execution_count": 33,
   "metadata": {},
   "outputs": [
    {
     "data": {
      "text/plain": [
       "0"
      ]
     },
     "execution_count": 33,
     "metadata": {},
     "output_type": "execute_result"
    }
   ],
   "source": [
    "valor_mov = 50\n",
    "novo_saldo_deb = saldo_conta_deb - valor_mov\n",
    "novo_saldo_cred = saldo_conta_cred + valor_mov\n",
    "\n",
    "dbm.movimentacao('Banco do Brasil', 'CAIXA', novo_saldo_deb, novo_saldo_cred)"
   ]
  },
  {
   "cell_type": "code",
   "execution_count": 4,
   "metadata": {},
   "outputs": [],
   "source": [
    "from datetime import datetime\n",
    "data_atual = datetime.now()"
   ]
  },
  {
   "cell_type": "code",
   "execution_count": 5,
   "metadata": {},
   "outputs": [
    {
     "data": {
      "text/plain": [
       "datetime.datetime(2024, 6, 17, 18, 28, 31, 832771)"
      ]
     },
     "execution_count": 5,
     "metadata": {},
     "output_type": "execute_result"
    }
   ],
   "source": [
    "data_atual"
   ]
  },
  {
   "cell_type": "code",
   "execution_count": null,
   "metadata": {},
   "outputs": [],
   "source": []
  },
  {
   "cell_type": "markdown",
   "metadata": {},
   "source": [
    "# TESTES 2\n"
   ]
  },
  {
   "cell_type": "code",
   "execution_count": 1,
   "metadata": {},
   "outputs": [],
   "source": [
    "import db_m as dbm"
   ]
  },
  {
   "cell_type": "code",
   "execution_count": 2,
   "metadata": {},
   "outputs": [
    {
     "data": {
      "text/plain": [
       "{'password': '$2b$12$bcbs7/QJylmBU.uU9/B2Nu2fAu.2QtxnSjVMtXRnsH4pouVKi8xci'}"
      ]
     },
     "execution_count": 2,
     "metadata": {},
     "output_type": "execute_result"
    }
   ],
   "source": [
    "# Consultar senha\n",
    "dbm.consultar_senha()"
   ]
  },
  {
   "cell_type": "code",
   "execution_count": 3,
   "metadata": {},
   "outputs": [
    {
     "data": {
      "text/plain": [
       "[{'id_conta': 1, 'conta': 'Banco do Brasil', 'saldo': 1740.0},\n",
       " {'id_conta': 2, 'conta': 'CAIXA', 'saldo': 790.0},\n",
       " {'id_conta': 3, 'conta': 'Nubank', 'saldo': 500.0}]"
      ]
     },
     "execution_count": 3,
     "metadata": {},
     "output_type": "execute_result"
    }
   ],
   "source": [
    "# Consultar contas\n",
    "dbm.consultar_contas()"
   ]
  },
  {
   "cell_type": "code",
   "execution_count": 3,
   "metadata": {},
   "outputs": [
    {
     "data": {
      "text/plain": [
       "[{'id_categoria': 1, 'tipo': 'Entrada', 'categoria': 'Salário'},\n",
       " {'id_categoria': 8, 'tipo': 'Entrada', 'categoria': 'Vendas'}]"
      ]
     },
     "execution_count": 3,
     "metadata": {},
     "output_type": "execute_result"
    }
   ],
   "source": [
    "# CONSULTAR CATEGORIAS POR TIPO (ENTRADA,SAÍDA)\n",
    "dbm.consultar_categorias('Entrada')"
   ]
  },
  {
   "cell_type": "code",
   "execution_count": 5,
   "metadata": {},
   "outputs": [
    {
     "data": {
      "text/plain": [
       "[{'id_categoria': 2, 'tipo': 'Saída', 'categoria': 'Aluguel'},\n",
       " {'id_categoria': 3, 'tipo': 'Saída', 'categoria': 'Mercado'},\n",
       " {'id_categoria': 4, 'tipo': 'Saída', 'categoria': 'Conbustível'},\n",
       " {'id_categoria': 5, 'tipo': 'Saída', 'categoria': 'Refeições'},\n",
       " {'id_categoria': 6, 'tipo': 'Saída', 'categoria': 'Impostos/Taxas'},\n",
       " {'id_categoria': 7, 'tipo': 'Saída', 'categoria': 'Lazer'}]"
      ]
     },
     "execution_count": 5,
     "metadata": {},
     "output_type": "execute_result"
    }
   ],
   "source": [
    "dbm.consultar_categorias('Saída')"
   ]
  },
  {
   "cell_type": "code",
   "execution_count": 2,
   "metadata": {},
   "outputs": [
    {
     "data": {
      "text/plain": [
       "1"
      ]
     },
     "execution_count": 2,
     "metadata": {},
     "output_type": "execute_result"
    }
   ],
   "source": [
    "id_conta = dbm.id_conta('Banco do Brasil')\n",
    "id_conta"
   ]
  },
  {
   "cell_type": "code",
   "execution_count": 3,
   "metadata": {},
   "outputs": [
    {
     "data": {
      "text/plain": [
       "1740.0"
      ]
     },
     "execution_count": 3,
     "metadata": {},
     "output_type": "execute_result"
    }
   ],
   "source": [
    "dbm.saldo_conta(1)"
   ]
  },
  {
   "cell_type": "code",
   "execution_count": 3,
   "metadata": {},
   "outputs": [
    {
     "data": {
      "text/plain": [
       "[{'id_orcamento': 1,\n",
       "  'id_categoria': 2,\n",
       "  'categoria': 'Aluguel',\n",
       "  'limite': 2500.0},\n",
       " {'id_orcamento': 2,\n",
       "  'id_categoria': 3,\n",
       "  'categoria': 'Mercado',\n",
       "  'limite': 2000.0},\n",
       " {'id_orcamento': 3,\n",
       "  'id_categoria': 4,\n",
       "  'categoria': 'Conbustível',\n",
       "  'limite': 500.0},\n",
       " {'id_orcamento': 4,\n",
       "  'id_categoria': 5,\n",
       "  'categoria': 'Refeições',\n",
       "  'limite': 400.0},\n",
       " {'id_orcamento': 5, 'id_categoria': 7, 'categoria': 'Lazer', 'limite': 500.0}]"
      ]
     },
     "execution_count": 3,
     "metadata": {},
     "output_type": "execute_result"
    }
   ],
   "source": [
    "dbm.consultar_orcamentos()"
   ]
  },
  {
   "cell_type": "code",
   "execution_count": 2,
   "metadata": {},
   "outputs": [
    {
     "data": {
      "text/plain": [
       "[{'id_movimentacao': 1,\n",
       "  'data': '2024-06-05',\n",
       "  'tipo': 'Entrada',\n",
       "  'id_categoria': 1,\n",
       "  'id_conta': 1,\n",
       "  'descricao': 'Salário',\n",
       "  'valor': 5000.0,\n",
       "  'conta': 'Banco do Brasil',\n",
       "  'saldo': 1740.0,\n",
       "  'categoria': 'Salário'},\n",
       " {'id_movimentacao': 2,\n",
       "  'data': '2024-06-07',\n",
       "  'tipo': 'Saída',\n",
       "  'id_categoria': 2,\n",
       "  'id_conta': 1,\n",
       "  'descricao': '',\n",
       "  'valor': 1500.0,\n",
       "  'conta': 'Banco do Brasil',\n",
       "  'saldo': 1740.0,\n",
       "  'categoria': 'Aluguel'},\n",
       " {'id_movimentacao': 3,\n",
       "  'data': '2024-06-07',\n",
       "  'tipo': 'Saída',\n",
       "  'id_categoria': 3,\n",
       "  'id_conta': 1,\n",
       "  'descricao': 'Compra do mês',\n",
       "  'valor': 800.0,\n",
       "  'conta': 'Banco do Brasil',\n",
       "  'saldo': 1740.0,\n",
       "  'categoria': 'Mercado'},\n",
       " {'id_movimentacao': 4,\n",
       "  'data': '2024-06-08',\n",
       "  'tipo': 'Saída',\n",
       "  'id_categoria': 4,\n",
       "  'id_conta': 1,\n",
       "  'descricao': '',\n",
       "  'valor': 200.0,\n",
       "  'conta': 'Banco do Brasil',\n",
       "  'saldo': 1740.0,\n",
       "  'categoria': 'Conbustível'},\n",
       " {'id_movimentacao': 5,\n",
       "  'data': '2024-06-08',\n",
       "  'tipo': 'Saída',\n",
       "  'id_categoria': 5,\n",
       "  'id_conta': 2,\n",
       "  'descricao': 'Lanche',\n",
       "  'valor': 50.0,\n",
       "  'conta': 'CAIXA',\n",
       "  'saldo': 790.0,\n",
       "  'categoria': 'Refeições'},\n",
       " {'id_movimentacao': 6,\n",
       "  'data': '2024-06-09',\n",
       "  'tipo': 'Saída',\n",
       "  'id_categoria': 7,\n",
       "  'id_conta': 1,\n",
       "  'descricao': 'Cinema',\n",
       "  'valor': 60.0,\n",
       "  'conta': 'Banco do Brasil',\n",
       "  'saldo': 1740.0,\n",
       "  'categoria': 'Lazer'},\n",
       " {'id_movimentacao': 7,\n",
       "  'data': '2024-06-09',\n",
       "  'tipo': 'Saída',\n",
       "  'id_categoria': 3,\n",
       "  'id_conta': 2,\n",
       "  'descricao': 'Carne no açougue',\n",
       "  'valor': 50.0,\n",
       "  'conta': 'CAIXA',\n",
       "  'saldo': 790.0,\n",
       "  'categoria': 'Mercado'},\n",
       " {'id_movimentacao': 8,\n",
       "  'data': '2024-06-14',\n",
       "  'tipo': 'Saída',\n",
       "  'id_categoria': 3,\n",
       "  'id_conta': 1,\n",
       "  'descricao': '',\n",
       "  'valor': 1000.0,\n",
       "  'conta': 'Banco do Brasil',\n",
       "  'saldo': 1740.0,\n",
       "  'categoria': 'Mercado'},\n",
       " {'id_movimentacao': 9,\n",
       "  'data': '2024-06-17',\n",
       "  'tipo': 'Saída',\n",
       "  'id_categoria': 2,\n",
       "  'id_conta': 2,\n",
       "  'descricao': '',\n",
       "  'valor': 10.0,\n",
       "  'conta': 'CAIXA',\n",
       "  'saldo': 790.0,\n",
       "  'categoria': 'Aluguel'}]"
      ]
     },
     "execution_count": 2,
     "metadata": {},
     "output_type": "execute_result"
    }
   ],
   "source": [
    "dbm.consulta_base()"
   ]
  },
  {
   "cell_type": "code",
   "execution_count": 2,
   "metadata": {},
   "outputs": [],
   "source": [
    "dbm.adicionar_conta('Nubank', 500)"
   ]
  },
  {
   "cell_type": "code",
   "execution_count": 2,
   "metadata": {},
   "outputs": [],
   "source": [
    "dbm.adicionar_categoria('Entrada', 'Vendas')"
   ]
  },
  {
   "cell_type": "code",
   "execution_count": null,
   "metadata": {},
   "outputs": [],
   "source": []
  }
 ],
 "metadata": {
  "kernelspec": {
   "display_name": "env",
   "language": "python",
   "name": "python3"
  },
  "language_info": {
   "codemirror_mode": {
    "name": "ipython",
    "version": 3
   },
   "file_extension": ".py",
   "mimetype": "text/x-python",
   "name": "python",
   "nbconvert_exporter": "python",
   "pygments_lexer": "ipython3",
   "version": "3.12.1"
  }
 },
 "nbformat": 4,
 "nbformat_minor": 2
}
