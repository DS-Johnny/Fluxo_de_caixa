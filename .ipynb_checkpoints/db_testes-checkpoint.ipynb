{
 "cells": [
  {
   "cell_type": "code",
   "execution_count": 1,
   "id": "def69cab-e5e3-4c40-abe7-97396f61c8a0",
   "metadata": {
    "tags": []
   },
   "outputs": [],
   "source": [
    "import sqlite3\n",
    "from sqlite3 import Error\n",
    "import os"
   ]
  },
  {
   "cell_type": "markdown",
   "id": "502db0bd-5dfe-4d68-b364-686c54ed8038",
   "metadata": {},
   "source": [
    "# Criar tabelas"
   ]
  },
  {
   "cell_type": "code",
   "execution_count": 2,
   "id": "4e3b034e-52a2-4aeb-8afa-d8ae57a0ac74",
   "metadata": {
    "tags": []
   },
   "outputs": [],
   "source": [
    "#CRIA A CONEXÃO COM O BANCO DE DADOS\n",
    "def create_connection(db_file):\n",
    "    \"\"\" Cria conexão com o banco de dados SQLite\n",
    "        especificado por arquivo_db\n",
    "        :param arquivo_db: diretório do banco de dados\n",
    "        :return : Objeto de conexão ou None\n",
    "    \"\"\"\n",
    "    conn = None\n",
    "    try:\n",
    "        conn = sqlite3.connect(db_file)\n",
    "        return conn\n",
    "    except Error as e:\n",
    "        return e\n",
    "\n",
    "    return conn"
   ]
  },
  {
   "cell_type": "code",
   "execution_count": 3,
   "id": "40c05319-1959-4959-88b0-a9a13d46f1b0",
   "metadata": {
    "tags": []
   },
   "outputs": [],
   "source": [
    "# CRIA UMA FUNÇÃO GERADORA DE TABELAS\n",
    "def create_table(conn, create_table_sql):\n",
    "\n",
    "    try:\n",
    "        c = conn.cursor()\n",
    "        c.execute(create_table_sql)\n",
    "    except Error as e:\n",
    "        return e"
   ]
  },
  {
   "cell_type": "code",
   "execution_count": 4,
   "id": "fe2628b6-ba61-4822-adb2-8c387f14f30c",
   "metadata": {
    "tags": []
   },
   "outputs": [],
   "source": [
    "def main():\n",
    "    database = \"fluxo.db\"\n",
    "\n",
    "    sql_create_movimentacoes_table = \"\"\"CREATE TABLE IF NOT EXISTS movimentacoes(\n",
    "                                    id_movimentacao INTEGER primary key autoincrement,\n",
    "                                    data DATE not null,\n",
    "                                    tipo TEXT(50) not null,\n",
    "                                    id_categoria INTEGER not null,\n",
    "                                    id_conta INTEGER not null,\n",
    "                                    comentario TEXT(300),\n",
    "                                    valor REAL not null\n",
    "                                ); \"\"\"\n",
    "    \n",
    "\n",
    "    sql_create_conta_table = \"\"\"CREATE TABLE IF NOT EXISTS conta(\n",
    "                                id_conta INTEGER primary key autoincrement,\n",
    "                                nome TEXT(100) not null,\n",
    "                                saldo REAL\n",
    "                                ); \"\"\"\n",
    "    \n",
    "    sql_create_categoria = \"\"\"CREATE TABLE IF NOT EXISTS categoria(\n",
    "                                id_categoria INTEGER primary key autoincrement,\n",
    "                                tipo TEXT(50) not null,\n",
    "                                nome TEXT(50) not null\n",
    "                                )\"\"\"\n",
    "    sql_create_password = \"\"\"CREATE TABLE IF NOT EXISTS password(\n",
    "                                password \n",
    "                                )\"\"\"\n",
    "    \n",
    "    # Cria a conexão com o banco de dados\n",
    "    conn = create_connection(database)\n",
    "\n",
    "    # Cria as tabelas\n",
    "    if conn is not None:\n",
    "        \n",
    "        # cria a tabela movimentações\n",
    "        create_table(conn, sql_create_movimentacoes_table)\n",
    "\n",
    "        # cria a tabela conta\n",
    "        create_table(conn, sql_create_conta_table)\n",
    "        \n",
    "        # cria a tabela categoria\n",
    "        create_table(conn, sql_create_categoria)\n",
    "        \n",
    "        # cria a tabela password\n",
    "        create_table(conn, sql_create_password)\n",
    "        \n",
    "        \n",
    "    else:\n",
    "        print(\"Error! cannot create the database connection.\")\n",
    "\n"
   ]
  },
  {
   "cell_type": "code",
   "execution_count": 6,
   "id": "67b23dcf-4277-4842-9733-4795ac747734",
   "metadata": {
    "tags": []
   },
   "outputs": [],
   "source": [
    "main()"
   ]
  },
  {
   "cell_type": "markdown",
   "id": "842558a9-98bc-485e-806a-dc7869110342",
   "metadata": {},
   "source": [
    "# Insert"
   ]
  },
  {
   "cell_type": "code",
   "execution_count": 10,
   "id": "89ce0303-a67f-4821-9a49-edddbb22019e",
   "metadata": {
    "tags": []
   },
   "outputs": [],
   "source": [
    "def adicionar_conta(nome : str):\n",
    "    database = \"fluxo.db\"\n",
    "    conn = create_connection(database)\n",
    "    sql = ''' INSERT INTO conta(nome)\n",
    "              VALUES(?)'''\n",
    "    with conn:\n",
    "        try:\n",
    "            cur = conn.cursor()\n",
    "            cur.execute(sql, (nome,))\n",
    "            conn.commit()\n",
    "            return cur.lastrowid\n",
    "        \n",
    "        except Error as e:\n",
    "            return e"
   ]
  },
  {
   "cell_type": "code",
   "execution_count": 11,
   "id": "626cec87-b71f-4a39-9ede-60b41698ec4d",
   "metadata": {
    "tags": []
   },
   "outputs": [
    {
     "data": {
      "text/plain": [
       "1"
      ]
     },
     "execution_count": 11,
     "metadata": {},
     "output_type": "execute_result"
    }
   ],
   "source": [
    "adicionar_conta(\"Neon\")"
   ]
  },
  {
   "cell_type": "code",
   "execution_count": 9,
   "id": "0d5f29e5-cc21-4a23-a42d-bc628305b1d3",
   "metadata": {
    "tags": []
   },
   "outputs": [],
   "source": [
    "def adicionar_senha(senha : str):\n",
    "    database = \"fluxo.db\"\n",
    "    conn = create_connection(database)\n",
    "    sql = ''' INSERT INTO password(password)\n",
    "              VALUES(?)'''\n",
    "    with conn:\n",
    "        try:\n",
    "            cur = conn.cursor()\n",
    "            cur.execute(sql, (senha,))\n",
    "            conn.commit()\n",
    "            return cur.lastrowid\n",
    "        \n",
    "        except Error as e:\n",
    "            return e"
   ]
  },
  {
   "cell_type": "markdown",
   "id": "f0c6f35e-a10d-47d1-bb97-8b38ef72cff3",
   "metadata": {},
   "source": [
    "# SELECT "
   ]
  },
  {
   "cell_type": "code",
   "execution_count": 11,
   "id": "eec9a0a2-4657-4dcc-82a5-4773cc919539",
   "metadata": {
    "tags": []
   },
   "outputs": [],
   "source": [
    "# Função para que as consultas SQL retornem uma lista de dicionários ao invés de uma lista de tuplas\n",
    "def dict_factory(cursor, row):\n",
    "    fields = [column[0] for column in cursor.description]\n",
    "    return {key: value for key, value in zip(fields, row)}\n"
   ]
  },
  {
   "cell_type": "code",
   "execution_count": 18,
   "id": "55ae8490-ba83-47d8-8295-60109798e515",
   "metadata": {
    "tags": []
   },
   "outputs": [
    {
     "data": {
      "text/plain": [
       "{'password': 7593258303979883720}"
      ]
     },
     "execution_count": 18,
     "metadata": {},
     "output_type": "execute_result"
    }
   ],
   "source": [
    "def consultar_senha():\n",
    "    database = \"fluxo.db\"\n",
    "    conn = create_connection(database)\n",
    "    conn.row_factory = dict_factory\n",
    "    \n",
    "    sql = \"SELECT * FROM password\"\n",
    "    \n",
    "    with conn:\n",
    "        try:\n",
    "            cur = conn.cursor()\n",
    "            cur.execute(sql)\n",
    "            consulta = cur.fetchone()\n",
    "            \n",
    "            return consulta\n",
    "            \n",
    "        except Error as e:\n",
    "            return e\n",
    "consultar_senha()"
   ]
  },
  {
   "cell_type": "markdown",
   "id": "247b9783-4299-4347-bf4a-7c6d972e20ef",
   "metadata": {},
   "source": [
    "# Testes "
   ]
  },
  {
   "cell_type": "code",
   "execution_count": 12,
   "id": "2d6b52be-86ca-4a21-8418-3bf9af666ce4",
   "metadata": {},
   "outputs": [
    {
     "data": {
      "text/plain": [
       "True"
      ]
     },
     "execution_count": 12,
     "metadata": {},
     "output_type": "execute_result"
    }
   ],
   "source": [
    "os.path.exists(\"fluxo.db\")"
   ]
  },
  {
   "cell_type": "code",
   "execution_count": 24,
   "id": "3f4df0ad-6763-46f0-913d-625f245a20b0",
   "metadata": {
    "tags": []
   },
   "outputs": [
    {
     "name": "stdout",
     "output_type": "stream",
     "text": [
      "7593258303979883720\n",
      "True\n"
     ]
    }
   ],
   "source": [
    "word = \"johnny*03\"\n",
    "print(hash(word))\n",
    "\n",
    "senha = hash(word)\n",
    "adicionar_senha(senha)\n",
    "\n",
    "result = consultar_senha()\n",
    "\n",
    "if result['password'] == senha:\n",
    "    print(True)\n",
    "else:\n",
    "    print(result)"
   ]
  },
  {
   "cell_type": "code",
   "execution_count": null,
   "id": "ca2307bc-729e-46a1-94f9-22112c8522da",
   "metadata": {},
   "outputs": [],
   "source": []
  }
 ],
 "metadata": {
  "kernelspec": {
   "display_name": "Python 3 (ipykernel)",
   "language": "python",
   "name": "python3"
  },
  "language_info": {
   "codemirror_mode": {
    "name": "ipython",
    "version": 3
   },
   "file_extension": ".py",
   "mimetype": "text/x-python",
   "name": "python",
   "nbconvert_exporter": "python",
   "pygments_lexer": "ipython3",
   "version": "3.11.5"
  }
 },
 "nbformat": 4,
 "nbformat_minor": 5
}
