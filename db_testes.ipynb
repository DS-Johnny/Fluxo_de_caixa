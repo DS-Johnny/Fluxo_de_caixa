{
 "cells": [
  {
   "cell_type": "code",
   "execution_count": 1,
   "id": "def69cab-e5e3-4c40-abe7-97396f61c8a0",
   "metadata": {
    "tags": []
   },
   "outputs": [],
   "source": [
    "import sqlite3\n",
    "from sqlite3 import Error\n",
    "import os\n",
    "import bcrypt"
   ]
  },
  {
   "cell_type": "markdown",
   "id": "502db0bd-5dfe-4d68-b364-686c54ed8038",
   "metadata": {},
   "source": [
    "# Criar tabelas"
   ]
  },
  {
   "cell_type": "code",
   "execution_count": 2,
   "id": "4e3b034e-52a2-4aeb-8afa-d8ae57a0ac74",
   "metadata": {
    "tags": []
   },
   "outputs": [],
   "source": [
    "#CRIA A CONEXÃO COM O BANCO DE DADOS\n",
    "def create_connection(db_file):\n",
    "    \"\"\" Cria conexão com o banco de dados SQLite\n",
    "        especificado por arquivo_db\n",
    "        :param arquivo_db: diretório do banco de dados\n",
    "        :return : Objeto de conexão ou None\n",
    "    \"\"\"\n",
    "    conn = None\n",
    "    try:\n",
    "        conn = sqlite3.connect(db_file)\n",
    "        return conn\n",
    "    except Error as e:\n",
    "        return e\n",
    "\n",
    "    return conn"
   ]
  },
  {
   "cell_type": "code",
   "execution_count": 3,
   "id": "40c05319-1959-4959-88b0-a9a13d46f1b0",
   "metadata": {
    "tags": []
   },
   "outputs": [],
   "source": [
    "# CRIA UMA FUNÇÃO GERADORA DE TABELAS\n",
    "def create_table(conn, create_table_sql):\n",
    "\n",
    "    try:\n",
    "        c = conn.cursor()\n",
    "        c.execute(create_table_sql)\n",
    "    except Error as e:\n",
    "        return e"
   ]
  },
  {
   "cell_type": "code",
   "execution_count": 4,
   "id": "fe2628b6-ba61-4822-adb2-8c387f14f30c",
   "metadata": {
    "tags": []
   },
   "outputs": [],
   "source": [
    "def main():\n",
    "    database = \"fluxo.db\"\n",
    "\n",
    "    sql_create_movimentacoes_table = \"\"\"CREATE TABLE IF NOT EXISTS movimentacoes(\n",
    "                                    id_movimentacao INTEGER primary key autoincrement,\n",
    "                                    data DATE not null,\n",
    "                                    tipo TEXT(50) not null,\n",
    "                                    id_categoria INTEGER not null,\n",
    "                                    id_conta INTEGER not null,\n",
    "                                    comentario TEXT(300),\n",
    "                                    valor REAL not null\n",
    "                                ); \"\"\"\n",
    "    \n",
    "\n",
    "    sql_create_conta_table = \"\"\"CREATE TABLE IF NOT EXISTS conta(\n",
    "                                id_conta INTEGER primary key autoincrement,\n",
    "                                nome TEXT(100) not null,\n",
    "                                saldo REAL\n",
    "                                ); \"\"\"\n",
    "    \n",
    "    sql_create_categoria = \"\"\"CREATE TABLE IF NOT EXISTS categoria(\n",
    "                                id_categoria INTEGER primary key autoincrement,\n",
    "                                tipo TEXT(50) not null,\n",
    "                                nome TEXT(50) not null\n",
    "                                )\"\"\"\n",
    "    sql_create_password = \"\"\"CREATE TABLE IF NOT EXISTS password(\n",
    "                                password \n",
    "                                )\"\"\"\n",
    "    \n",
    "    # Cria a conexão com o banco de dados\n",
    "    conn = create_connection(database)\n",
    "\n",
    "    # Cria as tabelas\n",
    "    if conn is not None:\n",
    "        \n",
    "        # cria a tabela movimentações\n",
    "        create_table(conn, sql_create_movimentacoes_table)\n",
    "\n",
    "        # cria a tabela conta\n",
    "        create_table(conn, sql_create_conta_table)\n",
    "        \n",
    "        # cria a tabela categoria\n",
    "        create_table(conn, sql_create_categoria)\n",
    "        \n",
    "        # cria a tabela password\n",
    "        create_table(conn, sql_create_password)\n",
    "        \n",
    "        \n",
    "    else:\n",
    "        print(\"Error! cannot create the database connection.\")\n",
    "\n"
   ]
  },
  {
   "cell_type": "code",
   "execution_count": 6,
   "id": "67b23dcf-4277-4842-9733-4795ac747734",
   "metadata": {
    "tags": []
   },
   "outputs": [],
   "source": [
    "main()"
   ]
  },
  {
   "cell_type": "markdown",
   "id": "842558a9-98bc-485e-806a-dc7869110342",
   "metadata": {},
   "source": [
    "# Insert"
   ]
  },
  {
   "cell_type": "code",
   "execution_count": 6,
   "id": "89ce0303-a67f-4821-9a49-edddbb22019e",
   "metadata": {
    "tags": []
   },
   "outputs": [],
   "source": [
    "def adicionar_conta(nome : str):\n",
    "    database = \"fluxo.db\"\n",
    "    conn = create_connection(database)\n",
    "    sql = ''' INSERT INTO conta(nome)\n",
    "              VALUES(?)'''\n",
    "    with conn:\n",
    "        try:\n",
    "            cur = conn.cursor()\n",
    "            cur.execute(sql, (nome,))\n",
    "            conn.commit()\n",
    "            return cur.lastrowid\n",
    "        \n",
    "        except Error as e:\n",
    "            return e"
   ]
  },
  {
   "cell_type": "code",
   "execution_count": 8,
   "id": "626cec87-b71f-4a39-9ede-60b41698ec4d",
   "metadata": {
    "tags": []
   },
   "outputs": [
    {
     "data": {
      "text/plain": [
       "2"
      ]
     },
     "execution_count": 8,
     "metadata": {},
     "output_type": "execute_result"
    }
   ],
   "source": [
    "adicionar_conta(\"PicPay\")"
   ]
  },
  {
   "cell_type": "code",
   "execution_count": 9,
   "id": "0d5f29e5-cc21-4a23-a42d-bc628305b1d3",
   "metadata": {
    "tags": []
   },
   "outputs": [],
   "source": [
    "def adicionar_senha(senha : str):\n",
    "    database = \"fluxo.db\"\n",
    "    conn = create_connection(database)\n",
    "    sql = ''' INSERT INTO password(password)\n",
    "              VALUES(?)'''\n",
    "    with conn:\n",
    "        try:\n",
    "            cur = conn.cursor()\n",
    "            cur.execute(sql, (senha,))\n",
    "            conn.commit()\n",
    "            return cur.lastrowid\n",
    "        \n",
    "        except Error as e:\n",
    "            return e"
   ]
  },
  {
   "cell_type": "code",
   "execution_count": 25,
   "id": "2ec713a7-1a69-4867-8e47-4ceab78fbeb0",
   "metadata": {
    "tags": []
   },
   "outputs": [],
   "source": [
    "def adicionar_categoria(tipo : str, nome : str):\n",
    "    database = \"fluxo.db\"\n",
    "    conn = create_connection(database)\n",
    "    sql = ''' INSERT INTO categoria(tipo, nome)\n",
    "              VALUES(?,?)'''\n",
    "    with conn:\n",
    "        try:\n",
    "            cur = conn.cursor()\n",
    "            cur.execute(sql, (tipo, nome))\n",
    "            conn.commit()\n",
    "            return cur.lastrowid\n",
    "        \n",
    "        except Error as e:\n",
    "            return e"
   ]
  },
  {
   "cell_type": "code",
   "execution_count": 28,
   "id": "f027b1bf-30d1-4e66-8c04-871ce3fc9f69",
   "metadata": {
    "tags": []
   },
   "outputs": [
    {
     "data": {
      "text/plain": [
       "4"
      ]
     },
     "execution_count": 28,
     "metadata": {},
     "output_type": "execute_result"
    }
   ],
   "source": [
    "adicionar_categoria(\"Entrada\", \"Vendas\")"
   ]
  },
  {
   "cell_type": "markdown",
   "id": "f0c6f35e-a10d-47d1-bb97-8b38ef72cff3",
   "metadata": {},
   "source": [
    "# SELECT "
   ]
  },
  {
   "cell_type": "code",
   "execution_count": 12,
   "id": "eec9a0a2-4657-4dcc-82a5-4773cc919539",
   "metadata": {
    "tags": []
   },
   "outputs": [],
   "source": [
    "# Função para que as consultas SQL retornem uma lista de dicionários ao invés de uma lista de tuplas\n",
    "def dict_factory(cursor, row):\n",
    "    fields = [column[0] for column in cursor.description]\n",
    "    return {key: value for key, value in zip(fields, row)}\n"
   ]
  },
  {
   "cell_type": "code",
   "execution_count": 18,
   "id": "55ae8490-ba83-47d8-8295-60109798e515",
   "metadata": {
    "tags": []
   },
   "outputs": [
    {
     "data": {
      "text/plain": [
       "{'password': 7593258303979883720}"
      ]
     },
     "execution_count": 18,
     "metadata": {},
     "output_type": "execute_result"
    }
   ],
   "source": [
    "def consultar_senha():\n",
    "    database = \"fluxo.db\"\n",
    "    conn = create_connection(database)\n",
    "    conn.row_factory = dict_factory\n",
    "    \n",
    "    sql = \"SELECT * FROM password\"\n",
    "    \n",
    "    with conn:\n",
    "        try:\n",
    "            cur = conn.cursor()\n",
    "            cur.execute(sql)\n",
    "            consulta = cur.fetchone()\n",
    "            \n",
    "            return consulta\n",
    "            \n",
    "        except Error as e:\n",
    "            return e\n",
    "consultar_senha()"
   ]
  },
  {
   "cell_type": "code",
   "execution_count": 15,
   "id": "19e4a5ea-fb86-4290-8c16-885fbe9e1f86",
   "metadata": {
    "tags": []
   },
   "outputs": [],
   "source": [
    "def consultar_contas():\n",
    "    database = \"fluxo.db\"\n",
    "    conn = create_connection(database)\n",
    "    conn.row_factory = dict_factory\n",
    "    \n",
    "    sql = \"SELECT * FROM conta\"\n",
    "    \n",
    "    with conn:\n",
    "        try:\n",
    "            cur = conn.cursor()\n",
    "            cur.execute(sql)\n",
    "            consulta = cur.fetchall()\n",
    "            \n",
    "            return consulta\n",
    "            \n",
    "        except Error as e:\n",
    "            return e"
   ]
  },
  {
   "cell_type": "code",
   "execution_count": 18,
   "id": "0afea983-c8cf-43a6-820c-6f4eee7ae3e5",
   "metadata": {
    "tags": []
   },
   "outputs": [
    {
     "name": "stdout",
     "output_type": "stream",
     "text": [
      "[{'id_conta': 1, 'nome': 'Neon', 'saldo': None}, {'id_conta': 2, 'nome': 'PicPay', 'saldo': None}]\n"
     ]
    }
   ],
   "source": [
    "contas = consultar_contas()\n",
    "print(contas)"
   ]
  },
  {
   "cell_type": "code",
   "execution_count": 20,
   "id": "abc5b9e2-c0ac-4a58-a725-4cbea0f661e2",
   "metadata": {
    "tags": []
   },
   "outputs": [
    {
     "name": "stdout",
     "output_type": "stream",
     "text": [
      "['Neon', 'PicPay']\n"
     ]
    }
   ],
   "source": [
    "contas_lista = []\n",
    "for i in contas:\n",
    "    contas_lista.append(i['nome'])\n",
    "print(contas_lista)"
   ]
  },
  {
   "cell_type": "code",
   "execution_count": 23,
   "id": "8956504a-1bc1-481d-9feb-d453e390ca03",
   "metadata": {
    "tags": []
   },
   "outputs": [],
   "source": [
    "def consultar_categorias(tipo : str):\n",
    "    database = \"fluxo.db\"\n",
    "    conn = create_connection(database)\n",
    "    conn.row_factory = dict_factory\n",
    "    \n",
    "    sql = \"SELECT * FROM categoria WHERE tipo = ?\"\n",
    "    \n",
    "    with conn:\n",
    "        try:\n",
    "            cur = conn.cursor()\n",
    "            cur.execute(sql, (tipo,))\n",
    "            consulta = cur.fetchall()\n",
    "            \n",
    "            return consulta\n",
    "            \n",
    "        except Error as e:\n",
    "            return e"
   ]
  },
  {
   "cell_type": "code",
   "execution_count": 31,
   "id": "9773de69-816c-497f-a838-8c1b5ebbfb98",
   "metadata": {
    "tags": []
   },
   "outputs": [
    {
     "name": "stdout",
     "output_type": "stream",
     "text": [
      "['Aulas', 'Salário', 'Empréstimo', 'Vendas']\n"
     ]
    }
   ],
   "source": [
    "categorias = consultar_categorias(\"Entrada\")\n",
    "cat_lista = []\n",
    "for i in categorias:\n",
    "    cat_lista.append(i['nome'])\n",
    "print(cat_lista)"
   ]
  },
  {
   "cell_type": "code",
   "execution_count": 1,
   "id": "45a787ad-ca4f-4e4f-882d-a30865d907d0",
   "metadata": {
    "tags": []
   },
   "outputs": [
    {
     "data": {
      "text/plain": [
       "1"
      ]
     },
     "execution_count": 1,
     "metadata": {},
     "output_type": "execute_result"
    }
   ],
   "source": [
    "import db_manager as dbm\n",
    "dbm.id_conta(\"Neon\")"
   ]
  },
  {
   "cell_type": "code",
   "execution_count": 2,
   "id": "c857b67e-8669-448f-aef2-74f9ba91d642",
   "metadata": {
    "tags": []
   },
   "outputs": [
    {
     "data": {
      "text/plain": [
       "4"
      ]
     },
     "execution_count": 2,
     "metadata": {},
     "output_type": "execute_result"
    }
   ],
   "source": [
    "import db_manager as dbm\n",
    "dbm.id_categoria(\"Vendas\")"
   ]
  },
  {
   "cell_type": "code",
   "execution_count": 4,
   "id": "5a0a80c9-9eb6-42f0-a188-dd5bc567df02",
   "metadata": {
    "tags": []
   },
   "outputs": [
    {
     "name": "stdout",
     "output_type": "stream",
     "text": [
      "{'id_movimentacao': 1, 'data': '2024-05-21', 'tipo': 'Entrada', 'id_categoria': 1, 'id_conta': 2, 'comentario': 'Alice', 'valor': 250.0, 'conta': 'Neon', 'saldo': None, 'categoria': 'Aulas'}\n",
      "{'id_movimentacao': 2, 'data': '2024-05-21', 'tipo': 'Entrada', 'id_categoria': 1, 'id_conta': 2, 'comentario': 'Rafael', 'valor': 250.0, 'conta': 'Neon', 'saldo': None, 'categoria': 'Aulas'}\n",
      "{'id_movimentacao': 3, 'data': '2024-05-21', 'tipo': 'Entrada', 'id_categoria': 2, 'id_conta': 3, 'comentario': 'Website SAS', 'valor': 750.0, 'conta': 'PicPay', 'saldo': None, 'categoria': 'Vendas'}\n",
      "{'id_movimentacao': 4, 'data': '2024-05-21', 'tipo': 'Saída', 'id_categoria': 4, 'id_conta': 1, 'comentario': 'Aluguel Maio', 'valor': 500.0, 'conta': 'Banco do Brasil', 'saldo': None, 'categoria': 'Aluguel'}\n",
      "{'id_movimentacao': 5, 'data': '2024-05-21', 'tipo': 'Saída', 'id_categoria': 5, 'id_conta': 2, 'comentario': 'Pizza', 'valor': 70.0, 'conta': 'Neon', 'saldo': None, 'categoria': 'Alimentação'}\n"
     ]
    },
    {
     "data": {
      "text/html": [
       "<div>\n",
       "<style scoped>\n",
       "    .dataframe tbody tr th:only-of-type {\n",
       "        vertical-align: middle;\n",
       "    }\n",
       "\n",
       "    .dataframe tbody tr th {\n",
       "        vertical-align: top;\n",
       "    }\n",
       "\n",
       "    .dataframe thead th {\n",
       "        text-align: right;\n",
       "    }\n",
       "</style>\n",
       "<table border=\"1\" class=\"dataframe\">\n",
       "  <thead>\n",
       "    <tr style=\"text-align: right;\">\n",
       "      <th></th>\n",
       "      <th>id_movimentacao</th>\n",
       "      <th>data</th>\n",
       "      <th>tipo</th>\n",
       "      <th>id_categoria</th>\n",
       "      <th>id_conta</th>\n",
       "      <th>comentario</th>\n",
       "      <th>valor</th>\n",
       "      <th>conta</th>\n",
       "      <th>saldo</th>\n",
       "      <th>categoria</th>\n",
       "    </tr>\n",
       "  </thead>\n",
       "  <tbody>\n",
       "    <tr>\n",
       "      <th>0</th>\n",
       "      <td>1</td>\n",
       "      <td>2024-05-21</td>\n",
       "      <td>Entrada</td>\n",
       "      <td>1</td>\n",
       "      <td>2</td>\n",
       "      <td>Alice</td>\n",
       "      <td>250.0</td>\n",
       "      <td>Neon</td>\n",
       "      <td>None</td>\n",
       "      <td>Aulas</td>\n",
       "    </tr>\n",
       "    <tr>\n",
       "      <th>1</th>\n",
       "      <td>2</td>\n",
       "      <td>2024-05-21</td>\n",
       "      <td>Entrada</td>\n",
       "      <td>1</td>\n",
       "      <td>2</td>\n",
       "      <td>Rafael</td>\n",
       "      <td>250.0</td>\n",
       "      <td>Neon</td>\n",
       "      <td>None</td>\n",
       "      <td>Aulas</td>\n",
       "    </tr>\n",
       "    <tr>\n",
       "      <th>2</th>\n",
       "      <td>3</td>\n",
       "      <td>2024-05-21</td>\n",
       "      <td>Entrada</td>\n",
       "      <td>2</td>\n",
       "      <td>3</td>\n",
       "      <td>Website SAS</td>\n",
       "      <td>750.0</td>\n",
       "      <td>PicPay</td>\n",
       "      <td>None</td>\n",
       "      <td>Vendas</td>\n",
       "    </tr>\n",
       "    <tr>\n",
       "      <th>3</th>\n",
       "      <td>4</td>\n",
       "      <td>2024-05-21</td>\n",
       "      <td>Saída</td>\n",
       "      <td>4</td>\n",
       "      <td>1</td>\n",
       "      <td>Aluguel Maio</td>\n",
       "      <td>500.0</td>\n",
       "      <td>Banco do Brasil</td>\n",
       "      <td>None</td>\n",
       "      <td>Aluguel</td>\n",
       "    </tr>\n",
       "    <tr>\n",
       "      <th>4</th>\n",
       "      <td>5</td>\n",
       "      <td>2024-05-21</td>\n",
       "      <td>Saída</td>\n",
       "      <td>5</td>\n",
       "      <td>2</td>\n",
       "      <td>Pizza</td>\n",
       "      <td>70.0</td>\n",
       "      <td>Neon</td>\n",
       "      <td>None</td>\n",
       "      <td>Alimentação</td>\n",
       "    </tr>\n",
       "  </tbody>\n",
       "</table>\n",
       "</div>"
      ],
      "text/plain": [
       "   id_movimentacao        data     tipo  id_categoria  id_conta    comentario  \\\n",
       "0                1  2024-05-21  Entrada             1         2         Alice   \n",
       "1                2  2024-05-21  Entrada             1         2        Rafael   \n",
       "2                3  2024-05-21  Entrada             2         3   Website SAS   \n",
       "3                4  2024-05-21    Saída             4         1  Aluguel Maio   \n",
       "4                5  2024-05-21    Saída             5         2         Pizza   \n",
       "\n",
       "   valor            conta saldo    categoria  \n",
       "0  250.0             Neon  None        Aulas  \n",
       "1  250.0             Neon  None        Aulas  \n",
       "2  750.0           PicPay  None       Vendas  \n",
       "3  500.0  Banco do Brasil  None      Aluguel  \n",
       "4   70.0             Neon  None  Alimentação  "
      ]
     },
     "execution_count": 4,
     "metadata": {},
     "output_type": "execute_result"
    }
   ],
   "source": [
    "import db_manager as dbm\n",
    "import pandas as pd\n",
    "base = dbm.consulta_base()\n",
    "df = pd.DataFrame(base)\n",
    "for i in base:\n",
    "    print(i)\n",
    "df"
   ]
  },
  {
   "cell_type": "markdown",
   "id": "247b9783-4299-4347-bf4a-7c6d972e20ef",
   "metadata": {},
   "source": [
    "# Testes "
   ]
  },
  {
   "cell_type": "code",
   "execution_count": 12,
   "id": "2d6b52be-86ca-4a21-8418-3bf9af666ce4",
   "metadata": {},
   "outputs": [
    {
     "data": {
      "text/plain": [
       "True"
      ]
     },
     "execution_count": 12,
     "metadata": {},
     "output_type": "execute_result"
    }
   ],
   "source": [
    "os.path.exists(\"fluxo.db\")"
   ]
  },
  {
   "cell_type": "code",
   "execution_count": 24,
   "id": "3f4df0ad-6763-46f0-913d-625f245a20b0",
   "metadata": {
    "tags": []
   },
   "outputs": [
    {
     "name": "stdout",
     "output_type": "stream",
     "text": [
      "7593258303979883720\n",
      "True\n"
     ]
    }
   ],
   "source": [
    "word = \"johnny*03\"\n",
    "print(hash(word))\n",
    "\n",
    "senha = hash(word)\n",
    "adicionar_senha(senha)\n",
    "\n",
    "result = consultar_senha()\n",
    "\n",
    "if result['password'] == senha:\n",
    "    print(True)\n",
    "else:\n",
    "    print(result)"
   ]
  },
  {
   "cell_type": "code",
   "execution_count": 2,
   "id": "ca2307bc-729e-46a1-94f9-22112c8522da",
   "metadata": {
    "tags": []
   },
   "outputs": [],
   "source": [
    "senha = b\"johnny*03\"\n",
    "hashed = bcrypt.hashpw(senha, bcrypt.gensalt())"
   ]
  },
  {
   "cell_type": "code",
   "execution_count": 4,
   "id": "1f287ea4-a89e-4b3f-ad40-c57d9b6375ca",
   "metadata": {},
   "outputs": [
    {
     "data": {
      "text/plain": [
       "str"
      ]
     },
     "execution_count": 4,
     "metadata": {},
     "output_type": "execute_result"
    }
   ],
   "source": [
    "type(str(hashed))"
   ]
  },
  {
   "cell_type": "code",
   "execution_count": 5,
   "id": "2107bbce-81d8-4bf7-bd36-5765d0fed863",
   "metadata": {},
   "outputs": [
    {
     "name": "stdout",
     "output_type": "stream",
     "text": [
      "b'$2b$12$bEPTbPYRv94uicpoVynDwuljfdt76RSflS8hJNY/pAz6awF8l72G.'\n"
     ]
    }
   ],
   "source": [
    "print(hashed)"
   ]
  },
  {
   "cell_type": "code",
   "execution_count": 6,
   "id": "45ed7765-3499-487b-bb93-9d86fb1583c9",
   "metadata": {
    "tags": []
   },
   "outputs": [
    {
     "data": {
      "text/plain": [
       "bytes"
      ]
     },
     "execution_count": 6,
     "metadata": {},
     "output_type": "execute_result"
    }
   ],
   "source": [
    "type(hashed)"
   ]
  },
  {
   "cell_type": "code",
   "execution_count": 7,
   "id": "df34f610-befc-49bf-b661-137281aa7245",
   "metadata": {
    "tags": []
   },
   "outputs": [
    {
     "name": "stdout",
     "output_type": "stream",
     "text": [
      "Collecting pwinput\n",
      "  Using cached pwinput-1.0.3.tar.gz (4.4 kB)\n",
      "  Installing build dependencies: started\n",
      "  Installing build dependencies: finished with status 'done'\n",
      "  Getting requirements to build wheel: started\n",
      "  Getting requirements to build wheel: finished with status 'done'\n",
      "  Preparing metadata (pyproject.toml): started\n",
      "  Preparing metadata (pyproject.toml): finished with status 'done'\n",
      "Building wheels for collected packages: pwinput\n",
      "  Building wheel for pwinput (pyproject.toml): started\n",
      "  Building wheel for pwinput (pyproject.toml): finished with status 'done'\n",
      "  Created wheel for pwinput: filename=pwinput-1.0.3-py3-none-any.whl size=4531 sha256=770284ba6054945ea57524f4a0005bfed2fdd476eb56fff3748ea1090fa659f1\n",
      "  Stored in directory: c:\\users\\johnny\\appdata\\local\\pip\\cache\\wheels\\84\\4f\\86\\62eb6202eb45b529f3dde2b93ba7eda76e7b782f4256f15c8d\n",
      "Successfully built pwinput\n",
      "Installing collected packages: pwinput\n",
      "Successfully installed pwinput-1.0.3\n",
      "Note: you may need to restart the kernel to use updated packages.\n"
     ]
    }
   ],
   "source": [
    "pip install pwinput"
   ]
  },
  {
   "cell_type": "code",
   "execution_count": 1,
   "id": "ea1408a6-69a5-40df-a616-5e20f7aaef00",
   "metadata": {},
   "outputs": [
    {
     "data": {
      "text/plain": [
       "'\\nwhile True:\\n    senha = pwinput.pwinput(prompt=\\'Insira a senha para acessar o sistema: \\')\\n    if bcrypt.checkpw(bytes(senha[\\'password\\'], encoding=\\'utf-8\\'), result):\\n        subprocess.run([\"streamlit\", \"run\", \"Home.py\"])\\n    else:\\n        print(\"Senha incorreta. Tente novamente\")\\n            \\n'"
      ]
     },
     "execution_count": 1,
     "metadata": {},
     "output_type": "execute_result"
    }
   ],
   "source": [
    "import db_manager as dbm\n",
    "import bcrypt\n",
    "import pwinput\n",
    "\n",
    "result = dbm.consultar_senha()\n",
    "\"\"\"\n",
    "while True:\n",
    "    senha = pwinput.pwinput(prompt='Insira a senha para acessar o sistema: ')\n",
    "    if bcrypt.checkpw(bytes(senha['password'], encoding='utf-8'), result):\n",
    "        subprocess.run([\"streamlit\", \"run\", \"Home.py\"])\n",
    "    else:\n",
    "        print(\"Senha incorreta. Tente novamente\")\n",
    "            \n",
    "\"\"\""
   ]
  },
  {
   "cell_type": "code",
   "execution_count": 2,
   "id": "dc85a580-78d8-45d9-b5fd-260b9f3a6d94",
   "metadata": {
    "tags": []
   },
   "outputs": [
    {
     "data": {
      "text/plain": [
       "{'password': \"b'$2b$12$q7jP7P5T2BTaZOaKgwF87e6exDCZW2ZV5JFNJfTR9u8RpqNFmGgLe'\"}"
      ]
     },
     "execution_count": 2,
     "metadata": {},
     "output_type": "execute_result"
    }
   ],
   "source": [
    "result"
   ]
  },
  {
   "cell_type": "code",
   "execution_count": 3,
   "id": "bb7a23c2-ca1b-4640-9461-e70fb2461feb",
   "metadata": {
    "tags": []
   },
   "outputs": [
    {
     "data": {
      "text/plain": [
       "\"b'$2b$12$q7jP7P5T2BTaZOaKgwF87e6exDCZW2ZV5JFNJfTR9u8RpqNFmGgLe'\""
      ]
     },
     "execution_count": 3,
     "metadata": {},
     "output_type": "execute_result"
    }
   ],
   "source": [
    "result['password']"
   ]
  },
  {
   "cell_type": "code",
   "execution_count": null,
   "id": "abaf7721-6a48-45fa-b92d-fd0463bcd0ca",
   "metadata": {},
   "outputs": [],
   "source": []
  }
 ],
 "metadata": {
  "kernelspec": {
   "display_name": "Python 3 (ipykernel)",
   "language": "python",
   "name": "python3"
  },
  "language_info": {
   "codemirror_mode": {
    "name": "ipython",
    "version": 3
   },
   "file_extension": ".py",
   "mimetype": "text/x-python",
   "name": "python",
   "nbconvert_exporter": "python",
   "pygments_lexer": "ipython3",
   "version": "3.11.5"
  }
 },
 "nbformat": 4,
 "nbformat_minor": 5
}
